{
 "cells": [
  {
   "cell_type": "markdown",
   "source": [
    "1. Napisz program, w którym znajduje się słownik z minimum 5 elementami. Posortuj słownik wg kluczy,\n",
    "a następnie wg wartości (załóż że wykorzystany typ kluczy i wartości umożliwia sortowanie)."
   ],
   "metadata": {
    "collapsed": false
   }
  },
  {
   "cell_type": "code",
   "execution_count": 81,
   "metadata": {
    "collapsed": true
   },
   "outputs": [
    {
     "name": "stdout",
     "output_type": "stream",
     "text": [
      "Sortowanie po kluczach:  [(1, 'w98'), (2, 'w9'), (3, 'w4'), (4, 'w7'), (5, 'w7')]\n",
      "Sortowanie po wartościach:  [(3, 'w4'), (4, 'w7'), (5, 'w7'), (2, 'w9'), (1, 'w98')]\n"
     ]
    }
   ],
   "source": [
    "dic = {1: 'w98', 2: 'w9',3: 'w4', 4: 'w7',5: 'w7'}\n",
    "print(\"Sortowanie po kluczach: \", sorted(dic.items()))\n",
    "print(\"Sortowanie po wartościach: \", sorted(dic.items(), key=lambda x: x[1]))"
   ]
  },
  {
   "cell_type": "markdown",
   "source": [
    "2. Napisz skrypt, który dwa słowniki zostaną połączone w nowy słownik. W przypadku duplikatów\n",
    "kluczy, usuń wartość z drugiego słownika."
   ],
   "metadata": {
    "collapsed": false
   }
  },
  {
   "cell_type": "code",
   "execution_count": 84,
   "outputs": [
    {
     "name": "stdout",
     "output_type": "stream",
     "text": [
      "Słownik numer 1:  {1: 'war1', 2: 'war2', 3: 'war3', 4: 'war4', 5: 'war5'}\n",
      "Słownik numer 2:  {4: 'war6', 5: 'war7', 6: 'war8', 7: 'war9', 8: 'war10'}\n",
      "Połączone słowniki:  [(1, 'war1'), (2, 'war2'), (3, 'war3'), (4, 'war4'), (5, 'war5'), (6, 'war8'), (7, 'war9'), (8, 'war10')]\n"
     ]
    }
   ],
   "source": [
    "dic1 = {1: 'war1', 2: 'war2',3: 'war3', 4: 'war4',5: 'war5'}\n",
    "dic2 = {4: 'war6', 5: 'war7',6: 'war8', 7: 'war9',8: 'war10'}\n",
    "print(\"Słownik numer 1: \", dic1)\n",
    "print(\"Słownik numer 2: \", dic2)\n",
    "dic12 = {}\n",
    "dic12.update(dic2)\n",
    "dic12.update(dic1)\n",
    "print(\"Połączone słowniki: \", sorted(dic12.items()))"
   ],
   "metadata": {
    "collapsed": false,
    "pycharm": {
     "name": "#%%\n"
    }
   }
  },
  {
   "cell_type": "markdown",
   "source": [
    "3. Napisz program, który zsumuje wszystkie wartości ze słownika (załóż, że wartości w słowniku można\n",
    "sumować)."
   ],
   "metadata": {
    "collapsed": false
   }
  },
  {
   "cell_type": "code",
   "execution_count": 64,
   "outputs": [
    {
     "name": "stdout",
     "output_type": "stream",
     "text": [
      "Suma wartości w tym słowniku wynosi  75\n"
     ]
    }
   ],
   "source": [
    "dic = {1: 5, 2: 10,3: 15, 4: 20,5: 25}\n",
    "print(\"Suma wartości w tym słowniku wynosi \",sum(dic.values()))"
   ],
   "metadata": {
    "collapsed": false,
    "pycharm": {
     "name": "#%%\n"
    }
   }
  },
  {
   "cell_type": "markdown",
   "source": [
    "4. Napisz program, który zamieni całkowitą liczbę dziesiętną na odpowiadającą jej liczbę rzymską. Wy-\n",
    "korzystaj w tym celu odpowiednik słownik."
   ],
   "metadata": {
    "collapsed": false
   }
  },
  {
   "cell_type": "code",
   "execution_count": 66,
   "outputs": [
    {
     "name": "stdout",
     "output_type": "stream",
     "text": [
      "Odpowiednik liczby  8  to  VIII\n"
     ]
    }
   ],
   "source": [
    "dic={1:'I', 2:'II', 3:'III', 4:'IV', 5:'V', 6:'VI', 7:'VII', 8:'VIII', 9:'IX', 10:'X'}\n",
    "x=int(input(\"Wpisz liczbę od 1 do 10\"))\n",
    "print(\"Odpowiednik liczby \",x,\" to \",dic[x])"
   ],
   "metadata": {
    "collapsed": false,
    "pycharm": {
     "name": "#%%\n"
    }
   }
  },
  {
   "cell_type": "markdown",
   "source": [
    "5. Napisz program, który usuwa jeden element z krotki (załóż, że krotka ma co najmniej 3 elementy)."
   ],
   "metadata": {
    "collapsed": false
   }
  },
  {
   "cell_type": "code",
   "execution_count": 69,
   "outputs": [
    {
     "name": "stdout",
     "output_type": "stream",
     "text": [
      "Krotka:  ('element1', 'element2', 'element3')\n",
      "Krotka bez elementu numer  2  wygląda tak:  ('element1', 'element3')\n"
     ]
    }
   ],
   "source": [
    "tuple=(\"element1\", \"element2\", \"element3\")\n",
    "print(\"Krotka: \",tuple)\n",
    "x=int(input(\"Wpisz numer indeksu do usunięcia (od 1 do 3)\"))\n",
    "tuple_answer=tuple[:x-1]+tuple[x:]\n",
    "print(\"Krotka bez elementu numer \",x,\" wygląda tak: \",tuple_answer)"
   ],
   "metadata": {
    "collapsed": false,
    "pycharm": {
     "name": "#%%\n"
    }
   }
  },
  {
   "cell_type": "markdown",
   "source": [
    "6. Napisz program, który zamienia krotką składającą się z dodatnich liczb całkowitych z zakresu 1-9 na\n",
    "liczbę całkowitą."
   ],
   "metadata": {
    "collapsed": false,
    "pycharm": {
     "name": "#%% md\n"
    }
   }
  },
  {
   "cell_type": "code",
   "execution_count": 70,
   "outputs": [
    {
     "name": "stdout",
     "output_type": "stream",
     "text": [
      "Krotka:  (4, 2, 4, 7, 6)\n",
      "Liczba składająca się z cyfr tej krotki to:  42476\n"
     ]
    }
   ],
   "source": [
    "tuple=(4, 2, 4, 7, 6)\n",
    "print(\"Krotka: \",tuple)\n",
    "total=0\n",
    "for i in range(0,len(tuple)):\n",
    "    total+=tuple[i]*pow(10,len(tuple)-i-1)\n",
    "print(\"Liczba składająca się z cyfr tej krotki to: \", total)\n"
   ],
   "metadata": {
    "collapsed": false,
    "pycharm": {
     "name": "#%%\n"
    }
   }
  },
  {
   "cell_type": "markdown",
   "source": [
    "7. Za pomocą konstrukcji m.in. tzw. Python comprehension stwórz krotkę zawierającą liczby parzyste\n",
    "między 2 a 50 (włącznie)."
   ],
   "metadata": {
    "collapsed": false
   }
  },
  {
   "cell_type": "code",
   "execution_count": 72,
   "outputs": [
    {
     "name": "stdout",
     "output_type": "stream",
     "text": [
      "Krotka:  [2, 4, 6, 8, 10, 12, 14, 16, 18, 20, 22, 24, 26, 28, 30, 32, 34, 36, 38, 40, 42, 44, 46, 48, 50]\n"
     ]
    }
   ],
   "source": [
    "tuple=[x for x in range(2,51) if x%2==0]\n",
    "print(\"Krotka: \",tuple)"
   ],
   "metadata": {
    "collapsed": false,
    "pycharm": {
     "name": "#%%\n"
    }
   }
  },
  {
   "cell_type": "markdown",
   "source": [
    "8. Napisz program, który wpisuje wszystkie elementy zbioru."
   ],
   "metadata": {
    "collapsed": false
   }
  },
  {
   "cell_type": "code",
   "execution_count": 74,
   "outputs": [
    {
     "name": "stdout",
     "output_type": "stream",
     "text": [
      "Zbiór:  {'element2', 'element1', 'element3'}\n"
     ]
    }
   ],
   "source": [
    "my_set = {\"element1\", \"element2\", \"element3\"}\n",
    "print(\"Zbiór: \", my_set)"
   ],
   "metadata": {
    "collapsed": false,
    "pycharm": {
     "name": "#%%\n"
    }
   }
  },
  {
   "cell_type": "markdown",
   "source": [
    "9. Napisz program, który łączy dwa zbiory w jeden"
   ],
   "metadata": {
    "collapsed": false
   }
  },
  {
   "cell_type": "code",
   "execution_count": 77,
   "outputs": [
    {
     "name": "stdout",
     "output_type": "stream",
     "text": [
      "Zbiór numer 1:  {'element2', 'element1', 'element3'}\n",
      "Zbiór numer 2:  {'element5', 'element6', 'element4'}\n",
      "Połączone zbiory:  {'element1', 'element5', 'element6', 'element4', 'element2', 'element3'}\n"
     ]
    }
   ],
   "source": [
    "my_set_1 = {\"element1\", \"element2\", \"element3\"}\n",
    "my_set_2 = {\"element4\", \"element5\", \"element6\"}\n",
    "print(\"Zbiór numer 1: \", my_set_1)\n",
    "print(\"Zbiór numer 2: \", my_set_2)\n",
    "my_set_12 = set()\n",
    "my_set_12.update(my_set_1)\n",
    "my_set_12.update(my_set_2)\n",
    "print(\"Połączone zbiory: \", my_set_12)"
   ],
   "metadata": {
    "collapsed": false,
    "pycharm": {
     "name": "#%%\n"
    }
   }
  },
  {
   "cell_type": "markdown",
   "source": [
    "10. Napisz program, który oblicza część wspólną dwóch zbiorów."
   ],
   "metadata": {
    "collapsed": false
   }
  },
  {
   "cell_type": "code",
   "execution_count": 78,
   "outputs": [
    {
     "name": "stdout",
     "output_type": "stream",
     "text": [
      "Zbiór numer 1:  {'element2', 'element1', 'element3'}\n",
      "Zbiór numer 2:  {'element2', 'element3', 'element4'}\n",
      "Wartość wspólna tych zbiorów to:  {'element2', 'element3'}\n"
     ]
    }
   ],
   "source": [
    "my_set_1 = {\"element1\", \"element2\", \"element3\"}\n",
    "my_set_2 = {\"element2\", \"element3\", \"element4\"}\n",
    "print(\"Zbiór numer 1: \", my_set_1)\n",
    "print(\"Zbiór numer 2: \", my_set_2)\n",
    "print(\"Wartość wspólna tych zbiorów to: \", my_set_1.intersection(my_set_2))"
   ],
   "metadata": {
    "collapsed": false,
    "pycharm": {
     "name": "#%%\n"
    }
   }
  },
  {
   "cell_type": "markdown",
   "source": [
    "11. Napisz program (bez gotowej funkcji), które oblicza liczbę elementów w zbiorze."
   ],
   "metadata": {
    "collapsed": false
   }
  },
  {
   "cell_type": "code",
   "execution_count": 79,
   "outputs": [
    {
     "name": "stdout",
     "output_type": "stream",
     "text": [
      "Zbiór:  {'element1', 'element2', 'element4', 'element5', 'element3'}\n",
      "Całkowita ilość elementów w zbiorze to:  5\n"
     ]
    }
   ],
   "source": [
    "my_set = {\"element1\", \"element2\", \"element3\", \"element4\", \"element5\"}\n",
    "print(\"Zbiór: \", my_set)\n",
    "total_elements = 0\n",
    "for i in my_set:\n",
    "    total_elements+=1\n",
    "print(\"Całkowita ilość elementów w zbiorze to: \", total_elements)"
   ],
   "metadata": {
    "collapsed": false,
    "pycharm": {
     "name": "#%%\n"
    }
   }
  }
 ],
 "metadata": {
  "kernelspec": {
   "display_name": "Python 3",
   "language": "python",
   "name": "python3"
  },
  "language_info": {
   "codemirror_mode": {
    "name": "ipython",
    "version": 2
   },
   "file_extension": ".py",
   "mimetype": "text/x-python",
   "name": "python",
   "nbconvert_exporter": "python",
   "pygments_lexer": "ipython2",
   "version": "2.7.6"
  }
 },
 "nbformat": 4,
 "nbformat_minor": 0
}