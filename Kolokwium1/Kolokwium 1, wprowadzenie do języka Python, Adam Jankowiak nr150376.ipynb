{
 "cells": [
  {
   "cell_type": "markdown",
   "metadata": {
    "pycharm": {
     "name": "#%% md\n"
    }
   },
   "source": [
    "## Kolokwium 1 - Wprowadzenie do języka Python - Zestaw 1\n",
    "\n",
    "Rozwiązanie można umieścić na githubie (jako skrypt lub notatnik) lub jako archiwum zip umieść na swoim indywidualnym prywatnym kanale MS Teams pod poleceniem."
   ]
  },
  {
   "cell_type": "markdown",
   "metadata": {
    "pycharm": {
     "name": "#%% md\n"
    }
   },
   "source": [
    "Zad.1. (7pkt) Napisz program, który z ustalonej listy zawierającej 5 liczb całkowitych wyświetla w kolejnych wierszach wszystkie możliwe permutacje listy."
   ]
  },
  {
   "cell_type": "code",
   "execution_count": 15,
   "metadata": {
    "pycharm": {
     "name": "#%%\n"
    }
   },
   "outputs": [
    {
     "name": "stdout",
     "output_type": "stream",
     "text": [
      "[5, 6, 3, 41, -12]\n",
      "[5, 6, 3, -12, 41]\n",
      "[5, 6, 41, 3, -12]\n",
      "[5, 6, 41, -12, 3]\n",
      "[5, 6, -12, 3, 41]\n",
      "[5, 6, -12, 41, 3]\n",
      "[5, 3, 6, 41, -12]\n",
      "[5, 3, 6, -12, 41]\n",
      "[5, 3, 41, 6, -12]\n",
      "[5, 3, 41, -12, 6]\n",
      "[5, 3, -12, 6, 41]\n",
      "[5, 3, -12, 41, 6]\n",
      "[5, 41, 6, 3, -12]\n",
      "[5, 41, 6, -12, 3]\n",
      "[5, 41, 3, 6, -12]\n",
      "[5, 41, 3, -12, 6]\n",
      "[5, 41, -12, 6, 3]\n",
      "[5, 41, -12, 3, 6]\n",
      "[5, -12, 6, 3, 41]\n",
      "[5, -12, 6, 41, 3]\n",
      "[5, -12, 3, 6, 41]\n",
      "[5, -12, 3, 41, 6]\n",
      "[5, -12, 41, 6, 3]\n",
      "[5, -12, 41, 3, 6]\n",
      "[6, 5, 3, 41, -12]\n",
      "[6, 5, 3, -12, 41]\n",
      "[6, 5, 41, 3, -12]\n",
      "[6, 5, 41, -12, 3]\n",
      "[6, 5, -12, 3, 41]\n",
      "[6, 5, -12, 41, 3]\n",
      "[6, 3, 5, 41, -12]\n",
      "[6, 3, 5, -12, 41]\n",
      "[6, 3, 41, 5, -12]\n",
      "[6, 3, 41, -12, 5]\n",
      "[6, 3, -12, 5, 41]\n",
      "[6, 3, -12, 41, 5]\n",
      "[6, 41, 5, 3, -12]\n",
      "[6, 41, 5, -12, 3]\n",
      "[6, 41, 3, 5, -12]\n",
      "[6, 41, 3, -12, 5]\n",
      "[6, 41, -12, 5, 3]\n",
      "[6, 41, -12, 3, 5]\n",
      "[6, -12, 5, 3, 41]\n",
      "[6, -12, 5, 41, 3]\n",
      "[6, -12, 3, 5, 41]\n",
      "[6, -12, 3, 41, 5]\n",
      "[6, -12, 41, 5, 3]\n",
      "[6, -12, 41, 3, 5]\n",
      "[3, 5, 6, 41, -12]\n",
      "[3, 5, 6, -12, 41]\n",
      "[3, 5, 41, 6, -12]\n",
      "[3, 5, 41, -12, 6]\n",
      "[3, 5, -12, 6, 41]\n",
      "[3, 5, -12, 41, 6]\n",
      "[3, 6, 5, 41, -12]\n",
      "[3, 6, 5, -12, 41]\n",
      "[3, 6, 41, 5, -12]\n",
      "[3, 6, 41, -12, 5]\n",
      "[3, 6, -12, 5, 41]\n",
      "[3, 6, -12, 41, 5]\n",
      "[3, 41, 5, 6, -12]\n",
      "[3, 41, 5, -12, 6]\n",
      "[3, 41, 6, 5, -12]\n",
      "[3, 41, 6, -12, 5]\n",
      "[3, 41, -12, 5, 6]\n",
      "[3, 41, -12, 6, 5]\n",
      "[3, -12, 5, 6, 41]\n",
      "[3, -12, 5, 41, 6]\n",
      "[3, -12, 6, 5, 41]\n",
      "[3, -12, 6, 41, 5]\n",
      "[3, -12, 41, 5, 6]\n",
      "[3, -12, 41, 6, 5]\n",
      "[41, 5, 6, 3, -12]\n",
      "[41, 5, 6, -12, 3]\n",
      "[41, 5, 3, 6, -12]\n",
      "[41, 5, 3, -12, 6]\n",
      "[41, 5, -12, 6, 3]\n",
      "[41, 5, -12, 3, 6]\n",
      "[41, 6, 5, 3, -12]\n",
      "[41, 6, 5, -12, 3]\n",
      "[41, 6, 3, 5, -12]\n",
      "[41, 6, 3, -12, 5]\n",
      "[41, 6, -12, 5, 3]\n",
      "[41, 6, -12, 3, 5]\n",
      "[41, 3, 5, 6, -12]\n",
      "[41, 3, 5, -12, 6]\n",
      "[41, 3, 6, 5, -12]\n",
      "[41, 3, 6, -12, 5]\n",
      "[41, 3, -12, 5, 6]\n",
      "[41, 3, -12, 6, 5]\n",
      "[41, -12, 5, 6, 3]\n",
      "[41, -12, 5, 3, 6]\n",
      "[41, -12, 6, 5, 3]\n",
      "[41, -12, 6, 3, 5]\n",
      "[41, -12, 3, 5, 6]\n",
      "[41, -12, 3, 6, 5]\n",
      "[-12, 5, 6, 3, 41]\n",
      "[-12, 5, 6, 41, 3]\n",
      "[-12, 5, 3, 6, 41]\n",
      "[-12, 5, 3, 41, 6]\n",
      "[-12, 5, 41, 6, 3]\n",
      "[-12, 5, 41, 3, 6]\n",
      "[-12, 6, 5, 3, 41]\n",
      "[-12, 6, 5, 41, 3]\n",
      "[-12, 6, 3, 5, 41]\n",
      "[-12, 6, 3, 41, 5]\n",
      "[-12, 6, 41, 5, 3]\n",
      "[-12, 6, 41, 3, 5]\n",
      "[-12, 3, 5, 6, 41]\n",
      "[-12, 3, 5, 41, 6]\n",
      "[-12, 3, 6, 5, 41]\n",
      "[-12, 3, 6, 41, 5]\n",
      "[-12, 3, 41, 5, 6]\n",
      "[-12, 3, 41, 6, 5]\n",
      "[-12, 41, 5, 6, 3]\n",
      "[-12, 41, 5, 3, 6]\n",
      "[-12, 41, 6, 5, 3]\n",
      "[-12, 41, 6, 3, 5]\n",
      "[-12, 41, 3, 5, 6]\n",
      "[-12, 41, 3, 6, 5]\n"
     ]
    }
   ],
   "source": [
    "def permutation(lis):\n",
    "    if len(lis)==0:\n",
    "        return []\n",
    "    if len(lis)==1:\n",
    "        return [lis]\n",
    "    perms=[]\n",
    "    for i in range(len(lis)):\n",
    "        value=lis[i]\n",
    "        remList=lis[:i]+lis[i+1:]\n",
    "        for j in permutation(remList):\n",
    "            perms.append([value]+j)\n",
    "    return perms\n",
    "\n",
    "\n",
    "my_list=[5,6,3,41,-12]\n",
    "for i in permutation(my_list):\n",
    "    print(i)\n",
    "    "
   ]
  },
  {
   "cell_type": "markdown",
   "metadata": {
    "pycharm": {
     "name": "#%% md\n"
    }
   },
   "source": [
    "Zad2. (7 pkt) Wykonaj obliczenia z wykorzystaniem biblioteki `math`:\n",
    "\n",
    "* $\\log (90)$\n",
    "* $\\arcsin (\\frac{\\sqrt{3}}{2})$\n",
    "* $\\frac{x+9^x}{x+5}$, gdzie $x=\\frac{1}{2-9y}$, a za $y$ przyjmij swój numer indeksu\n",
    "* $\\binom{20}{18}$\n",
    "* sprawdź, czy $0$ i $\\sin\\pi$ są \"bliskie\" z absolutną tolerancją $10^{-9}$"
   ]
  },
  {
   "cell_type": "code",
   "execution_count": 61,
   "metadata": {
    "pycharm": {
     "name": "#%%\n"
    }
   },
   "outputs": [
    {
     "name": "stdout",
     "output_type": "stream",
     "text": [
      "4.499809670330265\n",
      "1.0471975511965976\n",
      "0.19999955707653322\n",
      "1216451004088320000\n",
      "True\n"
     ]
    }
   ],
   "source": [
    "import math\n",
    "\n",
    "print(math.log(90))\n",
    "\n",
    "print(math.asin(math.sqrt(3)/2))\n",
    "\n",
    "y=150376\n",
    "x=1/(2-(9*y))\n",
    "print((x+math.pow(9,x))/(x+5))\n",
    "\n",
    "print(math.perm(20,18))\n",
    "\n",
    "print(math.isclose(0, math.sin(math.pi), abs_tol=math.pow(10,-9)))\n"
   ]
  },
  {
   "cell_type": "markdown",
   "metadata": {},
   "source": [
    "Zad.3. (7 pkt) Napisz program, który wczytuje z klawiatury liczbę całkowitą i wyświetla informację, czy wśród cyfr tej liczby jest 1."
   ]
  },
  {
   "cell_type": "code",
   "execution_count": 62,
   "metadata": {
    "pycharm": {
     "name": "#%%\n"
    }
   },
   "outputs": [
    {
     "name": "stdout",
     "output_type": "stream",
     "text": [
      "Podaj liczbę całkowitą: 51\n",
      "Ta liczba zawiera cyfrę 1\n"
     ]
    }
   ],
   "source": [
    "def fun(number):\n",
    "    number_as_str=str(number)\n",
    "    for i in range(len(number_as_str)):\n",
    "        if number_as_str[i]=='1':\n",
    "            return \"Ta liczba zawiera cyfrę 1\"\n",
    "    return \"Ta liczba nie zawiera cyfry 1\"\n",
    "\n",
    "number=int(input(\"Podaj liczbę całkowitą: \"))\n",
    "print(fun(number))"
   ]
  },
  {
   "cell_type": "markdown",
   "metadata": {},
   "source": [
    "Zad.4. (8 pkt) Napisz funkcję, której argumentem jest krotka składająca się z dodatnich liczb całkowitych. Funkcja ma zwrócić liczbę całkowitą powstałą z liczb nieparzystych zawartych w krotce.\n",
    "\n",
    "Przykład:\n",
    "* dla krotki `(3,52,77)` funkcja ma zwrócić `377`\n",
    "* dla krotki `(4,8,12)` funkcja ma zwrócić `None`\n",
    "* dla krotki `(0,14,98,1,103)` funkcja ma zwrócić `1103`"
   ]
  },
  {
   "cell_type": "code",
   "execution_count": 33,
   "metadata": {
    "pycharm": {
     "name": "#%%\n"
    }
   },
   "outputs": [
    {
     "name": "stdout",
     "output_type": "stream",
     "text": [
      "\n",
      "165323\n",
      "\n",
      "377\n",
      "\n",
      "None\n",
      "\n",
      "1103\n"
     ]
    }
   ],
   "source": [
    "def fun(tup):\n",
    "    tup2=('')\n",
    "    print(tup2)\n",
    "    for i in tup:\n",
    "        if int(i)%2==1:\n",
    "            tup2=tup2+i\n",
    "    result=''.join(map(str,list(tup2)))\n",
    "    if len(result)==0:\n",
    "        return None\n",
    "    return result\n",
    "\n",
    "print(fun(('1','54','653','23','22')))\n",
    "\n",
    "print(fun(('3','52','77')))\n",
    "print(fun(('4','8','12')))\n",
    "print(fun(('0','14','98','1','103')))"
   ]
  },
  {
   "cell_type": "markdown",
   "metadata": {},
   "source": [
    "Zad. 5. (7 pkt) Napisz funkcję, której argumentem jest napis. Jeśli funkcja zawiera inne znaki niż małe litery alfabetu łacińskiego, to funkcja ma zwrócić pusty napis (`\"\"`). Wynikiem funkcji ma być szyfrogram utworzony przez przestawienie kolejnych par znaków.\n",
    "\n",
    "Przykład:\n",
    "* dla `\"olsztyn\"` ma zostać zwrócony napis `\"lozsytn\"`\n",
    "* dla `\"Olsztyn\"` ma zostać zwrócone `\"\"`"
   ]
  },
  {
   "cell_type": "code",
   "execution_count": 58,
   "metadata": {
    "pycharm": {
     "name": "#%%\n"
    }
   },
   "outputs": [
    {
     "name": "stdout",
     "output_type": "stream",
     "text": [
      "lozsytn\n",
      "la aamk toa\n"
     ]
    }
   ],
   "source": [
    "def fun(str):\n",
    "    for i in str:\n",
    "        if i.isupper():\n",
    "            return \"\"\n",
    "    str2=''\n",
    "    for i in range(0,len(str)-1,2):\n",
    "        str2+=str[i+1]\n",
    "        str2+=str[i]\n",
    "    if len(str)%2==1:\n",
    "        str2+=str[len(str)-1]\n",
    "    return str2\n",
    "\n",
    "print(fun(\"olsztyn\"))\n",
    "print(fun(\"ala ma kota\"))\n",
    "        "
   ]
  },
  {
   "cell_type": "markdown",
   "metadata": {},
   "source": [
    "Zad.6. (10 pkt) Napisz rekurencyjną funkcję, zwracającą dla otrzymanej w argumencie nieujemnej liczby całkowitej $n$ wartość elementu o indeksie $n$ ciągu\n",
    "zdefiniowanego w następujący sposób:\n",
    "\n",
    "$$ a_0=1 $$\n",
    "$$a_1=2 $$\n",
    "$$ a_{2n} =2 a_n $$\n",
    "$$ a_{2n+1}= a_{2n-1} $$"
   ]
  },
  {
   "cell_type": "code",
   "execution_count": 7,
   "metadata": {
    "pycharm": {
     "name": "#%%\n"
    }
   },
   "outputs": [
    {
     "name": "stdout",
     "output_type": "stream",
     "text": [
      "8\n"
     ]
    }
   ],
   "source": [
    "def fun(n):\n",
    "    if n==0:\n",
    "        return 1\n",
    "    if n==1:\n",
    "        return 2\n",
    "    if n%2==0:\n",
    "        return fun(n/2)*2\n",
    "    if n%2==1:\n",
    "        return fun(n-2)\n",
    "\n",
    "print(fun(4))"
   ]
  },
  {
   "cell_type": "markdown",
   "metadata": {},
   "source": [
    "Zad.7. (4 pkt) Za pomocą konstrukcji związanych z formatowaniem napisów wyświetl zmienne w odpowiedni sposób zgodny z tabelką.\n",
    "\n",
    "| typ | wartość zmiennej | to co ma być wyświetlone |\n",
    "|---|---|---|\n",
    "| `int` | `345` | `+345` |\n",
    "| `float` | `0.234` | `0.2` |\n",
    "| `str` | `\"abcdefghij\"` | `\"ab\"` |"
   ]
  },
  {
   "cell_type": "code",
   "execution_count": 75,
   "metadata": {
    "pycharm": {
     "name": "#%%\n"
    }
   },
   "outputs": [
    {
     "name": "stdout",
     "output_type": "stream",
     "text": [
      "+345\n",
      "0.2\n",
      "ab\n"
     ]
    }
   ],
   "source": [
    "int_value=345\n",
    "float_value=0.234\n",
    "str_value='abcdefghij'\n",
    "\n",
    "print(f'{int_value:+g}')\n",
    "print(format(float_value, \".1f\"))\n",
    "print(str_value[:2])"
   ]
  },
  {
   "cell_type": "code",
   "execution_count": null,
   "metadata": {},
   "outputs": [],
   "source": []
  }
 ],
 "metadata": {
  "kernelspec": {
   "display_name": "Python 3 (ipykernel)",
   "language": "python",
   "name": "python3"
  },
  "language_info": {
   "codemirror_mode": {
    "name": "ipython",
    "version": 3
   },
   "file_extension": ".py",
   "mimetype": "text/x-python",
   "name": "python",
   "nbconvert_exporter": "python",
   "pygments_lexer": "ipython3",
   "version": "3.9.7"
  }
 },
 "nbformat": 4,
 "nbformat_minor": 1
}
