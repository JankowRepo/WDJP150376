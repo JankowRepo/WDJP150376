{
 "cells": [
  {
   "cell_type": "markdown",
   "source": [
    "1. Zadeklaruj zmienną typu int, float i str i poćwicz różne formaty napisów."
   ],
   "metadata": {
    "collapsed": false
   }
  },
  {
   "cell_type": "code",
   "execution_count": 74,
   "metadata": {
    "collapsed": true
   },
   "outputs": [
    {
     "name": "stdout",
     "output_type": "stream",
     "text": [
      "<class 'int'>\n",
      "<class 'float'>\n",
      "<class 'str'>\n",
      "wyr1_15\n",
      "wyr2_15.555000\n",
      "wyr3_15.55555\n",
      "wyr4_15\n",
      "wyr5_15.555000\n",
      "wyr6_15.55555\n"
     ]
    }
   ],
   "source": [
    "zmienna_int=15\n",
    "zmienna_float = 15.555\n",
    "zmienna_str = \"15.55555\"\n",
    "print(type(zmienna_int))\n",
    "print(type(zmienna_float))\n",
    "print(type(zmienna_str))\n",
    "\n",
    "\n",
    "s1 = \"wyr1_{:d}\".format(zmienna_int)\n",
    "print(s1)\n",
    "s2 = \"wyr2_{:f}\".format(zmienna_float)\n",
    "print(s2)\n",
    "s3 = \"wyr3_{:2s}\".format(zmienna_str)\n",
    "print(s3)\n",
    "s4 = \"wyr4_{:d}\".format(zmienna_int)\n",
    "print(s4)\n",
    "s5 = \"wyr5_{:2f}\".format(zmienna_float)\n",
    "print(s5)\n",
    "s6 = \"wyr6_{:7s}\".format(zmienna_str)\n",
    "print(s6)"
   ]
  },
  {
   "cell_type": "markdown",
   "source": [
    "2. Spróbuj jeden z plików na giście wykonać w stylu f-string."
   ],
   "metadata": {
    "collapsed": false
   }
  },
  {
   "cell_type": "code",
   "execution_count": 72,
   "outputs": [
    {
     "name": "stdout",
     "output_type": "stream",
     "text": [
      "zm1\n",
      "wyr1_1234.891200\n",
      "wyr3_1234.89\n",
      "wyr4_1234.9\n",
      "wyr5_  1234.891\n",
      "wyr5_1234000000000000.000000000000\n"
     ]
    }
   ],
   "source": [
    "zm1 = 1234.8912\n",
    "zm2 = 1234e12\n",
    "print('zm1')\n",
    "s1=\"wyr1_{:f}\".format(zm1)\n",
    "print(s1)\n",
    "s3=\"wyr3_{:5.2f}\".format(zm1)\n",
    "print(s3)\n",
    "s4=\"wyr4_{:3.1f}\".format(zm1)\n",
    "print(s4)\n",
    "s5=\"wyr5_{:10.3f}\".format(zm1)\n",
    "print(s5)\n",
    "s6=\"wyr5_{:14.12f}\".format(zm2)\n",
    "print(s6)"
   ],
   "metadata": {
    "collapsed": false,
    "pycharm": {
     "name": "#%%\n"
    }
   }
  },
  {
   "cell_type": "markdown",
   "source": [
    "3. Napisz program, który zlicza i wyświetla zestawienie liczebności poszczególnych znaków w napisie."
   ],
   "metadata": {
    "collapsed": false
   }
  },
  {
   "cell_type": "code",
   "execution_count": 58,
   "outputs": [
    {
     "name": "stdout",
     "output_type": "stream",
     "text": [
      "Podany wyraz:  adam\n",
      "a 2\n",
      "d 1\n",
      "m 1\n"
     ]
    }
   ],
   "source": [
    "from collections import Counter\n",
    "my_string=input(\"Wpisz wyraz\")\n",
    "print('Podany wyraz: ', my_string)\n",
    "number_of_letters=Counter(my_string)\n",
    "for i in ''.join(set(my_string)):\n",
    "    print(i, number_of_letters[i])"
   ],
   "metadata": {
    "collapsed": false,
    "pycharm": {
     "name": "#%%\n"
    }
   }
  },
  {
   "cell_type": "markdown",
   "source": [
    "4. Napisz program, który zamienia samogłoski na gwiazdki."
   ],
   "metadata": {
    "collapsed": false
   }
  },
  {
   "cell_type": "code",
   "execution_count": 76,
   "outputs": [
    {
     "name": "stdout",
     "output_type": "stream",
     "text": [
      "Podany wyraz:  Adam\n",
      "Wyraz po zamianie samogłosek na gwiazdki *d*m\n"
     ]
    }
   ],
   "source": [
    "vowels='aeiouyAEIOUY'\n",
    "my_string=input(\"Wpisz wyraz\")\n",
    "print('Podany wyraz: ', my_string)\n",
    "my_new_string=''\n",
    "for i in my_string:\n",
    "    letter_to_change=False\n",
    "    for j in vowels:\n",
    "        if i==j:\n",
    "            letter_to_change=True\n",
    "\n",
    "    if letter_to_change:\n",
    "        my_new_string=my_new_string+'*'\n",
    "    else:\n",
    "        my_new_string=my_new_string+i\n",
    "\n",
    "print('Wyraz po zamianie samogłosek na gwiazdki',my_new_string)"
   ],
   "metadata": {
    "collapsed": false,
    "pycharm": {
     "name": "#%%\n"
    }
   }
  },
  {
   "cell_type": "markdown",
   "source": [
    "5. Napisz program szyfrujący i deszyfrujący napisy zgodnie z Szyfrem Cezar. Klucz n ma być zmienną w kodzie."
   ],
   "metadata": {
    "collapsed": false
   }
  },
  {
   "cell_type": "code",
   "execution_count": 55,
   "outputs": [
    {
     "name": "stdout",
     "output_type": "stream",
     "text": [
      "Podany wyraz:  adam\n",
      "Szyfrowanie:  fifr\n",
      "Deszyfrowanie:  adam\n"
     ]
    }
   ],
   "source": [
    "n = int(input(\"Podaj liczbę: \"))\n",
    "my_string = input(\"Podaj wyraz: \")\n",
    "print('Podany wyraz: ', my_string)\n",
    "\n",
    "my_new_string=[chr((ord(i) + n - 65) % 26 + 65) if i.isupper() else\n",
    "               chr((ord(i) + n - 97) % 26 + 97) for i in my_string]\n",
    "\n",
    "print('Szyfrowanie: ',''.join(my_new_string))\n",
    "\n",
    "my_very_new_string=[chr((ord(i) - n - 65) % 26 + 65) if i.isupper() else\n",
    "               chr((ord(i) - n - 97) % 26 + 97) for i in my_new_string]\n",
    "\n",
    "print('Deszyfrowanie: ',''.join(my_very_new_string))"
   ],
   "metadata": {
    "collapsed": false,
    "pycharm": {
     "name": "#%%\n"
    }
   }
  },
  {
   "cell_type": "markdown",
   "source": [
    "6. Napisz program zamieniający małe litery na duże, a duże na małe."
   ],
   "metadata": {
    "collapsed": false
   }
  },
  {
   "cell_type": "code",
   "execution_count": 77,
   "outputs": [
    {
     "name": "stdout",
     "output_type": "stream",
     "text": [
      "Podany wyraz:  Adam\n",
      "Wyraz po odwróceniu znaków:  aDAM\n"
     ]
    }
   ],
   "source": [
    "my_string = input(\"Podaj wyraz\")\n",
    "print('Podany wyraz: ', my_string)\n",
    "my_new_string=[i.upper() if i.islower() else i.lower() for i in my_string]\n",
    "print('Wyraz po odwróceniu znaków: ',''.join(my_new_string))"
   ],
   "metadata": {
    "collapsed": false,
    "pycharm": {
     "name": "#%%\n"
    }
   }
  }
 ],
 "metadata": {
  "kernelspec": {
   "display_name": "Python 3",
   "language": "python",
   "name": "python3"
  },
  "language_info": {
   "codemirror_mode": {
    "name": "ipython",
    "version": 2
   },
   "file_extension": ".py",
   "mimetype": "text/x-python",
   "name": "python",
   "nbconvert_exporter": "python",
   "pygments_lexer": "ipython2",
   "version": "2.7.6"
  }
 },
 "nbformat": 4,
 "nbformat_minor": 0
}