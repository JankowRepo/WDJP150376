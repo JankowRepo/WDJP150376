{
 "cells": [
  {
   "cell_type": "code",
   "execution_count": 58,
   "id": "ccbb3c38",
   "metadata": {},
   "outputs": [
    {
     "name": "stdout",
     "output_type": "stream",
     "text": [
      "4\n"
     ]
    }
   ],
   "source": [
    "# 3. Napisz funkcję, która dostaje jako argument ścieżkę dostępu do pliku, otwiera plik do tekstowego\n",
    "# czytania i zwraca jako wartość deskryptor świeżo otwartego pliku.\n",
    "def fun(path_to_file):\n",
    "    file = open(path_to_file, \"r\")\n",
    "    answer=file.fileno()\n",
    "    file.close()\n",
    "    return answer\n",
    "\n",
    "print(fun(\"C:/Users/Adam/Desktop/file.txt\"))"
   ]
  },
  {
   "cell_type": "code",
   "execution_count": 57,
   "id": "9a669901",
   "metadata": {},
   "outputs": [
    {
     "name": "stdout",
     "output_type": "stream",
     "text": [
      "Hello there\n"
     ]
    }
   ],
   "source": [
    "# 4. Napisz funkcję, która dostaje jako argument ścieżkę dostępu do pliku tekstowego i wypisuje na stan-\n",
    "# dardowym wyjściu zawartość pliku z pominięciem białych znaków.\n",
    "def fun(path_to_file):\n",
    "    file = open(path_to_file, \"r\")\n",
    "    answer=file.read().strip()\n",
    "    file.close()\n",
    "    return answer\n",
    "\n",
    "print(fun(\"C:/Users/Adam/Desktop/file.txt\"))"
   ]
  },
  {
   "cell_type": "code",
   "execution_count": 56,
   "id": "44c5fd34",
   "metadata": {},
   "outputs": [
    {
     "name": "stdout",
     "output_type": "stream",
     "text": [
      "3\n"
     ]
    }
   ],
   "source": [
    "# 5. Napisz funkcję, która dostaje jako argumenty ścieżkę dostępu do pliku tekstowego oraz napis długości\n",
    "# 1 zawierający jeden znak i zwraca jako wartość liczbę wystąpień odpowiedniego znaku w podanym w\n",
    "# argumencie pliku.\n",
    "def fun(path_to_file, symbol):\n",
    "    file = open(path_to_file, \"r\")\n",
    "    answer=file.read().count(symbol)\n",
    "    file.close()\n",
    "    return answer\n",
    "\n",
    "print(fun(\"C:/Users/Adam/Desktop/file.txt\", \"e\"))"
   ]
  },
  {
   "cell_type": "code",
   "execution_count": 43,
   "id": "a2482c75",
   "metadata": {},
   "outputs": [
    {
     "name": "stdout",
     "output_type": "stream",
     "text": [
      "{' ': 5, 'H': 1, 'e': 3, 'l': 2, 'o': 1, 't': 1, 'h': 1, 'r': 1}\n"
     ]
    }
   ],
   "source": [
    "# 6. Napisz funkcję, która dostaje w argumencie ścieżkę dostępu do pliku tekstowego i wypisuje na stan-\n",
    "# dardowym wyjściu statystyki występowania w pliku poszczególnych znaków (pozycje 0-127).\n",
    "from collections import Counter\n",
    "def fun(path_to_file):\n",
    "    file = open(path_to_file, \"r\")\n",
    "    answer=Counter(file.read())\n",
    "    file.close()\n",
    "    return dict(answer)\n",
    "\n",
    "print(fun(\"C:/Users/Adam/Desktop/file.txt\"))"
   ]
  },
  {
   "cell_type": "code",
   "execution_count": 54,
   "id": "4e3b9cbb",
   "metadata": {},
   "outputs": [
    {
     "name": "stdout",
     "output_type": "stream",
     "text": [
      "[(' ', 5)]\n"
     ]
    }
   ],
   "source": [
    "# 8. Napisz funkcję, która dostaje jako argument ścieżkę dostępu do pliku tekstowego i zwraca jako wartość\n",
    "# najczęściej występujący w pliku znak.\n",
    "from collections import Counter\n",
    "def fun(path_to_file):\n",
    "    file = open(path_to_file, \"r\")\n",
    "    answer = Counter(file.read()).most_common(1)\n",
    "    file.close()\n",
    "    return answer\n",
    "\n",
    "print(fun(\"C:/Users/Adam/Desktop/file.txt\"))"
   ]
  },
  {
   "cell_type": "code",
   "execution_count": 53,
   "id": "50471747",
   "metadata": {},
   "outputs": [
    {
     "name": "stdout",
     "output_type": "stream",
     "text": [
      "True\n"
     ]
    }
   ],
   "source": [
    "# 9. Napisz funkcję, która dostaje jako argumenty ścieżki dostępu do dwóch plików tekstowych i zwraca\n",
    "# jako wartość True, jeżeli podane pliki mają taką samą zawartość oraz False w przeciwnym wypadku.\n",
    "from collections import Counter\n",
    "def fun(path_to_file1, path_to_file2):\n",
    "    file1 = open(path_to_file1, \"r\")\n",
    "    file2 = open(path_to_file2, \"r\")\n",
    "    answer = file1.read()==file2.read()\n",
    "    file1.close()\n",
    "    file2.close()\n",
    "    return answer\n",
    "\n",
    "print(fun(\"C:/Users/Adam/Desktop/file.txt\", \"C:/Users/Adam/Desktop/file2.txt\"))"
   ]
  },
  {
   "cell_type": "code",
   "execution_count": null,
   "id": "7fe0dde7",
   "metadata": {},
   "outputs": [],
   "source": []
  }
 ],
 "metadata": {
  "kernelspec": {
   "display_name": "Python 3 (ipykernel)",
   "language": "python",
   "name": "python3"
  },
  "language_info": {
   "codemirror_mode": {
    "name": "ipython",
    "version": 3
   },
   "file_extension": ".py",
   "mimetype": "text/x-python",
   "name": "python",
   "nbconvert_exporter": "python",
   "pygments_lexer": "ipython3",
   "version": "3.9.7"
  }
 },
 "nbformat": 4,
 "nbformat_minor": 5
}
