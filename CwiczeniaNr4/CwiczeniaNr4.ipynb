{
  "nbformat": 4,
  "nbformat_minor": 0,
  "metadata": {
    "colab": {
      "name": "Untitled0.ipynb",
      "provenance": []
    },
    "kernelspec": {
      "name": "python3",
      "display_name": "Python 3"
    },
    "language_info": {
      "name": "python"
    }
  },
  "cells": [
    {
      "cell_type": "code",
      "source": [
        "import statistics\n",
        "import random\n",
        "import numpy as np"
      ],
      "metadata": {
        "id": "yUPrwzyFHVKR"
      },
      "execution_count": 86,
      "outputs": []
    },
    {
      "cell_type": "markdown",
      "source": [
        "1. Napisz program, który obliczy i wypisze na ekran sumę wszystkich elementów listy."
      ],
      "metadata": {
        "id": "kOT30sN_EczG"
      }
    },
    {
      "cell_type": "code",
      "execution_count": 101,
      "metadata": {
        "colab": {
          "base_uri": "https://localhost:8080/"
        },
        "id": "W010RA0RDrKj",
        "outputId": "3f42e116-6cca-45c9-d1ec-c6f852acb77f"
      },
      "outputs": [
        {
          "output_type": "execute_result",
          "data": {
            "text/plain": [
              "100"
            ]
          },
          "metadata": {},
          "execution_count": 101
        }
      ],
      "source": [
        "random.seed(150376)\n",
        "randomlist = [random.randrange(1, 101) for i in range(200)]\n",
        "max(randomlist)"
      ]
    },
    {
      "cell_type": "markdown",
      "source": [
        "2. Napisz program, który znajdzie i wypisze na ekran najmniejszy element listy (wykonaj 2 wersje, bez\n",
        "użycia i używając wbudowaną funkcję języka Python)."
      ],
      "metadata": {
        "id": "E3dO-PcpEtmS"
      }
    },
    {
      "cell_type": "code",
      "source": [
        "random.seed(150376)\n",
        "randomlist = [random.randrange(1, 101) for i in range(200)]\n",
        "print(min(randomlist))\n",
        "\n",
        "minNumber = 250\n",
        "for i in randomlist:\n",
        "  minNumber = i if i<minNumber else minNumber\n",
        "print(minNumber)"
      ],
      "metadata": {
        "colab": {
          "base_uri": "https://localhost:8080/"
        },
        "id": "RpvI_NszEwnK",
        "outputId": "a24df91e-f4e6-4861-d643-e52b88337a33"
      },
      "execution_count": 100,
      "outputs": [
        {
          "output_type": "stream",
          "name": "stdout",
          "text": [
            "1\n",
            "1\n"
          ]
        }
      ]
    },
    {
      "cell_type": "markdown",
      "source": [
        "3. Napisz program, który znajdzie i wypisze na ekran największy element listy (wykonaj 2 wersje, bez\n",
        "użycia i używając wbudowaną funkcję języka Python)."
      ],
      "metadata": {
        "id": "9SnzyMqwGkc_"
      }
    },
    {
      "cell_type": "code",
      "source": [
        "random.seed(150376)\n",
        "randomlist = [random.randrange(1, 101) for i in range(200)]\n",
        "print(max(randomlist))\n",
        "\n",
        "maxNumber = 0\n",
        "for i in randomlist:\n",
        "  maxNumber = i if i>maxNumber else maxNumber\n",
        "print(maxNumber)"
      ],
      "metadata": {
        "colab": {
          "base_uri": "https://localhost:8080/"
        },
        "id": "xPr5sKi9Gm--",
        "outputId": "029382be-656c-4bba-dd2d-3ef8bd583b8d"
      },
      "execution_count": 28,
      "outputs": [
        {
          "output_type": "stream",
          "name": "stdout",
          "text": [
            "198\n",
            "198\n"
          ]
        }
      ]
    },
    {
      "cell_type": "markdown",
      "source": [
        "4. Napisz program, który znajdzie i wypisze na ekran medianę elementów listy."
      ],
      "metadata": {
        "id": "mMkOKGmDG-ic"
      }
    },
    {
      "cell_type": "code",
      "source": [
        "random.seed(150376)\n",
        "randomlist = [random.randrange(1, 101) for i in range(200)]\n",
        "print(statistics.median(randomlist))\n"
      ],
      "metadata": {
        "colab": {
          "base_uri": "https://localhost:8080/"
        },
        "id": "Tk2nSTZvHBHI",
        "outputId": "d4954f68-bf92-4a24-9ca4-1b52200c0d29"
      },
      "execution_count": 29,
      "outputs": [
        {
          "output_type": "stream",
          "name": "stdout",
          "text": [
            "98.5\n"
          ]
        }
      ]
    },
    {
      "cell_type": "markdown",
      "source": [
        "5. Napisz program, który posortuje elementy listy od najmniejszego i wypisze na ekran pierwsze 20 z nich\n",
        "(wykonaj 2 wersje, bez użycia i używając wbudowaną funkcję języka Python)."
      ],
      "metadata": {
        "id": "7vYglCwOHopB"
      }
    },
    {
      "cell_type": "code",
      "source": [
        "random.seed(150376)\n",
        "randomlist1 = [random.randrange(1, 101) for i in range(200)]\n",
        "randomlist1.sort()\n",
        "print(randomlist1[:20])\n",
        "\n",
        "random.seed(150376)\n",
        "randomlist2 = [random.randrange(1, 101) for i in range(200)]\n",
        "for i in range(len(randomlist2)):\n",
        "  for j in range(len(randomlist2)):\n",
        "    if randomlist2[i]<randomlist2[j]:\n",
        "      tmp=randomlist2[i]\n",
        "      randomlist2[i]=randomlist2[j]\n",
        "      randomlist2[j]=tmp\n",
        "print(randomlist2[:20])"
      ],
      "metadata": {
        "colab": {
          "base_uri": "https://localhost:8080/"
        },
        "id": "h0j6NnEKHpSs",
        "outputId": "5c953712-8d0b-4a4a-cf36-234fe68bda84"
      },
      "execution_count": 96,
      "outputs": [
        {
          "output_type": "stream",
          "name": "stdout",
          "text": [
            "[1, 1, 1, 2, 2, 2, 3, 4, 4, 4, 5, 5, 6, 6, 7, 7, 7, 8, 8, 8]\n",
            "[1, 1, 1, 2, 2, 2, 3, 4, 4, 4, 5, 5, 6, 6, 7, 7, 7, 8, 8, 8]\n"
          ]
        }
      ]
    },
    {
      "cell_type": "markdown",
      "source": [
        "6. Napisz program, który obliczy i wypisze na ekran iloczyn wszystkich elementów listy."
      ],
      "metadata": {
        "id": "b3YcErcVJqso"
      }
    },
    {
      "cell_type": "code",
      "source": [
        "random.seed(150376)\n",
        "randomlist = [random.randrange(1, 101) for i in range(200)]\n",
        "result=1;\n",
        "for i in randomlist:\n",
        "  result=result*i\n",
        "print(result)"
      ],
      "metadata": {
        "colab": {
          "base_uri": "https://localhost:8080/"
        },
        "id": "5fAMD3AeJrwH",
        "outputId": "4e2588fc-5eb5-48eb-a07e-7701cad95e4d"
      },
      "execution_count": 97,
      "outputs": [
        {
          "output_type": "stream",
          "name": "stdout",
          "text": [
            "4771867268286230900143742790920264053615841212383518604155535993022384726201265169531530479674907467306674204460671960698642151397818703330303081633194558677637081280506166030020489694743152000896822262638412065771074005622181307963313236241005131914123673600000000000000000000000000000000000000000000000000000000\n"
          ]
        }
      ]
    },
    {
      "cell_type": "markdown",
      "source": [
        "7. Napisz program, który sprawdzi i wypisze na ekran ilość liczb 3-cyfrowych na liście"
      ],
      "metadata": {
        "id": "wOFv2UayKM4V"
      }
    },
    {
      "cell_type": "code",
      "source": [
        "random.seed(150376)\n",
        "randomlist = [random.randrange(1, 101) for i in range(200)]\n",
        "newlist=[i for i in randomlist if i>99]\n",
        "print(len(newlist))"
      ],
      "metadata": {
        "colab": {
          "base_uri": "https://localhost:8080/"
        },
        "id": "-peEMBtjKPY0",
        "outputId": "70386916-ab8d-473c-9ca4-65f28cf1c7a6"
      },
      "execution_count": 98,
      "outputs": [
        {
          "output_type": "stream",
          "name": "stdout",
          "text": [
            "2\n"
          ]
        }
      ]
    },
    {
      "cell_type": "markdown",
      "source": [
        "8. Napisz program, który sprawdzi i wypisze na ekran liczbę oraz jej ilość powtórzeń, która najczęściej\n",
        "występuje na liście."
      ],
      "metadata": {
        "id": "ZuIyQ41aLCKq"
      }
    },
    {
      "cell_type": "code",
      "source": [
        "random.seed(150376)\n",
        "randomlist = [random.randrange(1, 101) for i in range(200)]\n",
        "num=max(set(randomlist), key = randomlist.count)\n",
        "print('liczba: ',num)\n",
        "\n",
        "numofduplicates=0\n",
        "for i in randomlist:\n",
        "  if i==num:\n",
        "    numofduplicates+=1\n",
        "print('ilość powtórzeń: ',numofduplicates)\n"
      ],
      "metadata": {
        "colab": {
          "base_uri": "https://localhost:8080/"
        },
        "id": "Gg3JObQlLEZ7",
        "outputId": "feb5d0ec-ff9b-433f-fc38-933a78c36606"
      },
      "execution_count": 99,
      "outputs": [
        {
          "output_type": "stream",
          "name": "stdout",
          "text": [
            "liczba:  13\n",
            "ilość powtórzeń:  7\n"
          ]
        }
      ]
    },
    {
      "cell_type": "markdown",
      "source": [
        "9. Napisz program, który sprawdzi i wypisze na ekran wszystkie liczby, które się nie powtarzają na liście."
      ],
      "metadata": {
        "id": "riVdJ5M6St2P"
      }
    },
    {
      "cell_type": "code",
      "source": [
        "random.seed(150376)\n",
        "randomlist = [random.randrange(1, 101) for i in range(200)]\n",
        "print(set(randomlist))"
      ],
      "metadata": {
        "colab": {
          "base_uri": "https://localhost:8080/"
        },
        "id": "LpnVST4vSupz",
        "outputId": "7ca06294-643c-4b61-bd84-6f4bc6b1b7b6"
      },
      "execution_count": 103,
      "outputs": [
        {
          "output_type": "stream",
          "name": "stdout",
          "text": [
            "{1, 2, 3, 4, 5, 6, 7, 8, 9, 10, 11, 12, 13, 14, 15, 16, 17, 18, 20, 23, 24, 25, 27, 28, 29, 30, 31, 32, 33, 34, 35, 37, 38, 39, 40, 42, 43, 44, 45, 46, 49, 50, 52, 53, 54, 55, 56, 57, 58, 59, 60, 61, 62, 64, 65, 66, 67, 68, 69, 70, 71, 72, 74, 75, 76, 77, 78, 79, 80, 81, 82, 85, 86, 87, 88, 89, 90, 91, 92, 93, 94, 95, 97, 98, 99, 100}\n"
          ]
        }
      ]
    },
    {
      "cell_type": "markdown",
      "source": [
        "11. Napisz program, który sprawdzi i wypisze na ekran ile liczb jest większych niż 127."
      ],
      "metadata": {
        "id": "UOCenZKQSg4z"
      }
    },
    {
      "cell_type": "code",
      "source": [
        "random.seed(150376)\n",
        "randomlist = [random.randrange(1, 101) for i in range(200)]\n",
        "newlist=[i for i in randomlist if i>127]\n",
        "print(len(newlist))"
      ],
      "metadata": {
        "colab": {
          "base_uri": "https://localhost:8080/"
        },
        "id": "7yb-8UTPShos",
        "outputId": "4dfadc15-0624-4241-ac9d-2901ef57423e"
      },
      "execution_count": 102,
      "outputs": [
        {
          "output_type": "stream",
          "name": "stdout",
          "text": [
            "0\n"
          ]
        }
      ]
    },
    {
      "cell_type": "markdown",
      "source": [
        "12. Napisz program, który sprawdzi i wypisze na ekran trzy najmniejsze i trzy największe liczby z listy."
      ],
      "metadata": {
        "id": "LyOP5LneTDJ1"
      }
    },
    {
      "cell_type": "code",
      "source": [
        "random.seed(150376)\n",
        "randomlist = [random.randrange(1, 101) for i in range(200)]\n",
        "randomlist.sort()\n",
        "print(randomlist[:3])\n",
        "print(randomlist[-3:])"
      ],
      "metadata": {
        "colab": {
          "base_uri": "https://localhost:8080/"
        },
        "id": "YNU0jZV8TD5v",
        "outputId": "e853a6bc-c963-4e96-a452-75e96011cf00"
      },
      "execution_count": 110,
      "outputs": [
        {
          "output_type": "stream",
          "name": "stdout",
          "text": [
            "[1, 1, 1]\n",
            "[99, 100, 100]\n"
          ]
        }
      ]
    },
    {
      "cell_type": "markdown",
      "source": [
        "16. Oblicz ile jest elementów listy, których wartość jest parzysta."
      ],
      "metadata": {
        "id": "On--EglsUae0"
      }
    },
    {
      "cell_type": "code",
      "source": [
        "random.seed(150376)\n",
        "randomlist = [random.randrange(1, 101) for i in range(200)]\n",
        "randomlist1 = [i for i in randomlist if i%2==0]\n",
        "print(len(randomlist1))"
      ],
      "metadata": {
        "colab": {
          "base_uri": "https://localhost:8080/"
        },
        "id": "PYKyNhQXUbG2",
        "outputId": "8981970d-8f1f-4e66-9ef0-8a8e55e0e4db"
      },
      "execution_count": 115,
      "outputs": [
        {
          "output_type": "stream",
          "name": "stdout",
          "text": [
            "101\n"
          ]
        }
      ]
    },
    {
      "cell_type": "markdown",
      "source": [
        "17. Oblicz ile jest elementów listy, których wartość jest nieparzysta."
      ],
      "metadata": {
        "id": "YRtRlrzBUuNK"
      }
    },
    {
      "cell_type": "code",
      "source": [
        "random.seed(150376)\n",
        "randomlist = [random.randrange(1, 101) for i in range(200)]\n",
        "randomlist2 = [i for i in randomlist if i%2==1]\n",
        "print(len(randomlist2))"
      ],
      "metadata": {
        "colab": {
          "base_uri": "https://localhost:8080/"
        },
        "id": "JUFdBBQRUuzd",
        "outputId": "f59d3f53-a8af-4b50-93be-dfd90bc43386"
      },
      "execution_count": 116,
      "outputs": [
        {
          "output_type": "stream",
          "name": "stdout",
          "text": [
            "99\n"
          ]
        }
      ]
    },
    {
      "cell_type": "markdown",
      "source": [
        "18. Napisz program, który przeniesie wszystkie elementy parzyste listy posegregowane od najmniejszego\n",
        "na lewą stronę listy, natomiast nieparzyste posegregowane malejąco na prawą. Np. [2,1,4,6,3,6,5] ->\n",
        "[2,4,6,6,5,3,1]"
      ],
      "metadata": {
        "id": "k0qsWUIJU3UQ"
      }
    },
    {
      "cell_type": "code",
      "source": [
        "random.seed(150376)\n",
        "randomlist = [random.randrange(1, 101) for i in range(200)]\n",
        "randomlist1 = [i for i in randomlist if i%2==0]\n",
        "randomlist1.sort()\n",
        "randomlist2 = [i for i in randomlist if i%2==1]\n",
        "randomlist2.sort(reverse=True)\n",
        "print(randomlist1+randomlist2)"
      ],
      "metadata": {
        "colab": {
          "base_uri": "https://localhost:8080/"
        },
        "id": "ZoVbQvtFU4CN",
        "outputId": "62f11151-2c01-4a0f-87c3-59f82efa464a"
      },
      "execution_count": 119,
      "outputs": [
        {
          "output_type": "stream",
          "name": "stdout",
          "text": [
            "[2, 2, 2, 4, 4, 4, 6, 6, 8, 8, 8, 8, 10, 12, 12, 12, 14, 14, 14, 16, 16, 18, 20, 20, 20, 20, 24, 24, 28, 30, 30, 30, 32, 34, 34, 38, 38, 40, 42, 42, 44, 44, 44, 46, 46, 50, 52, 54, 54, 54, 54, 54, 56, 56, 58, 58, 58, 60, 60, 60, 62, 62, 62, 64, 64, 64, 66, 66, 66, 68, 68, 70, 72, 74, 76, 76, 76, 76, 78, 78, 80, 80, 80, 82, 86, 88, 88, 88, 88, 88, 90, 90, 90, 92, 92, 94, 94, 94, 98, 100, 100, 99, 97, 97, 95, 93, 93, 91, 89, 89, 89, 87, 87, 87, 87, 87, 85, 85, 85, 81, 81, 79, 79, 79, 79, 79, 79, 77, 77, 75, 75, 71, 71, 71, 69, 67, 67, 65, 65, 61, 61, 61, 59, 57, 57, 55, 55, 55, 55, 55, 55, 53, 53, 53, 53, 49, 45, 45, 43, 43, 43, 39, 39, 37, 37, 35, 35, 33, 31, 31, 31, 29, 29, 27, 25, 25, 25, 25, 23, 17, 15, 13, 13, 13, 13, 13, 13, 13, 11, 11, 9, 7, 7, 7, 5, 5, 3, 1, 1, 1]\n"
          ]
        }
      ]
    }
  ]
}