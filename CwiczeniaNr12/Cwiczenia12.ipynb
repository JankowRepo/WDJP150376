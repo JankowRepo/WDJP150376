{
 "cells": [
  {
   "cell_type": "code",
   "execution_count": 1,
   "metadata": {
    "collapsed": true
   },
   "outputs": [
    {
     "name": "stdout",
     "output_type": "stream",
     "text": [
      "[0.29250548106182184, 0.05846899370901415, 0.14909329330236887, 0.4429193161166114, 0.0948240026214241, 0.33008465345397076]\n"
     ]
    }
   ],
   "source": [
    "# 1. Stwórz listę, w której elementy powstały przez wylosowanie 6 liczb wymiernych z przedziału [0, 1).\n",
    "import random\n",
    "import numpy as np\n",
    "random.seed(150376)\n",
    "list=[random.random() for i in range(6)]\n",
    "print(list)"
   ]
  },
  {
   "cell_type": "code",
   "execution_count": 32,
   "outputs": [
    {
     "name": "stdout",
     "output_type": "stream",
     "text": [
      "[64, 58, 56, 70, 59, 57]\n"
     ]
    }
   ],
   "source": [
    "# 2. Stwórz listę powstałą przez wylosowanie 6 liczb całkowitych z przedziału [55, 84]\n",
    "# (z obu stron przedział domkniety)\n",
    "\n",
    "random.seed(150376)\n",
    "list=[random.randint(55,85) for i in range(6)]\n",
    "print(list)\n",
    "# do poprawy"
   ],
   "metadata": {
    "collapsed": false,
    "pycharm": {
     "name": "#%%\n"
    }
   }
  },
  {
   "cell_type": "code",
   "execution_count": 35,
   "outputs": [
    {
     "name": "stdout",
     "output_type": "stream",
     "text": [
      "[-26, -76, -86, 26, -62, -78, 13, -25, -76, -51, -16, -41, 74, 85, -2, 95, 13, 86, -78, -9]\n",
      "26\n"
     ]
    }
   ],
   "source": [
    "# 3. Napisz funkcję, której argumentem jest liczba całkowita n. Wewnątrz funkcji stwórz 20-elementową\n",
    "# listę powstałą przez wylosowanie liczb z przedziału [−100, 100]. Funkcja ma zwrócić elementy listy,\n",
    "# który jest najbliżej n. Stwórz przypadek testowy.\n",
    "import math\n",
    "def fun(n):\n",
    "    diff=1000\n",
    "    answer=0\n",
    "    list=[random.randint(-100,101) for i in range(20)]\n",
    "    print(list)\n",
    "    for i in list:\n",
    "        if diff>math.fabs(n-i):\n",
    "            diff=math.fabs(n-i)\n",
    "            answer=i\n",
    "    return answer\n",
    "random.seed(150376)\n",
    "print(fun(50))"
   ],
   "metadata": {
    "collapsed": false,
    "pycharm": {
     "name": "#%%\n"
    }
   }
  },
  {
   "cell_type": "code",
   "execution_count": 47,
   "outputs": [
    {
     "name": "stdout",
     "output_type": "stream",
     "text": [
      "[4.879850635544806, 5.416207462515873, 5.239564545823163, 4.7641909669679725, 5.4647851091303625, 4.876993264802302, 4.690379895873271, 5.052942052384684, 5.014905086869487, 4.9904180233942865]\n"
     ]
    }
   ],
   "source": [
    "# 4. Stwórz 10-elementową listę, której elementy są wygenerowane zgodnie z rozkładem normalnym o średniej\n",
    "# 5 i odchyleniu standardowym 0.25.\n",
    "\n",
    "np.random.seed(150376)\n",
    "\n",
    "list=[np.random.normal(5, 0.25) for i in range(10)]\n",
    "print(list)"
   ],
   "metadata": {
    "collapsed": false,
    "pycharm": {
     "name": "#%%\n"
    }
   }
  },
  {
   "cell_type": "code",
   "execution_count": 48,
   "outputs": [
    {
     "name": "stdout",
     "output_type": "stream",
     "text": [
      "[4.969962658886201, 5.104051865628968, 5.059891136455791, 4.941047741741993, 5.116196277282591, 4.969248316200575, 4.922594973968318, 5.013235513096171, 5.003726271717372, 4.997604505848572]\n"
     ]
    }
   ],
   "source": [
    "# 5. Stwórz 10-elementową listę, której elementy są wygenerowane zgodnie z rozkładem normalnym o średniej\n",
    "# 5 i wariancji 0.25.\n",
    "\n",
    "np.random.seed(150376)\n",
    "\n",
    "list=[np.random.normal(5, 0.25**2) for i in range(10)]\n",
    "print(list)"
   ],
   "metadata": {
    "collapsed": false,
    "pycharm": {
     "name": "#%%\n"
    }
   }
  },
  {
   "cell_type": "code",
   "execution_count": 53,
   "outputs": [
    {
     "name": "stdout",
     "output_type": "stream",
     "text": [
      "[156, 120, 111, 195]\n"
     ]
    }
   ],
   "source": [
    "# 6. Stwórz 4-elementową listę, której elementy są wylosowane z przedziału [100, 200] oraz są jednocześnie\n",
    "# podzielne przez 3.\n",
    "random.seed(150376)\n",
    "list=[random.randrange(102,201,3) for i in range(4)]\n",
    "print(list)"
   ],
   "metadata": {
    "collapsed": false,
    "pycharm": {
     "name": "#%%\n"
    }
   }
  },
  {
   "cell_type": "code",
   "execution_count": 3,
   "outputs": [
    {
     "name": "stdout",
     "output_type": "stream",
     "text": [
      "Witaj. Zagrajmy w grę\n",
      "Ten ciąg znaków powinien być później (???)\n",
      "Gratulacje, wygrałeś!\n"
     ]
    }
   ],
   "source": [
    "# 7. Napisz program, w którym na początku jest wylosowany napis składający się 5 znaków będących małymi\n",
    "# literami alfabetu łacińskiego. Zadaniem użytkownika jest zgadnięcie ciągu znaków poprzez kolejne\n",
    "# próby wpisywane na standardowym wejściu. Dla ułatwienia wyświetl komunikat czy wprowadzony ciąg\n",
    "# znaków jest wcześniej lub później (w porządku leksykograficznym).\n",
    "\n",
    "import string\n",
    "random.seed(150376)\n",
    "list=[random.choice(string.ascii_lowercase) for i in range(5)]\n",
    "list\n",
    "print(\"Witaj. Zagrajmy w grę\")\n",
    "while(True):\n",
    "    ans=input(\"Podaj po spacji 5 małych liter \")\n",
    "    answer=ans.split(\" \")\n",
    "    if answer==list:\n",
    "        break\n",
    "    else:\n",
    "        print(\"Ten losowy ciąg znaków powinien być później lub wcześniej (???)\")\n",
    "print(\"Gratulacje, wygrałeś!\")"
   ],
   "metadata": {
    "collapsed": false,
    "pycharm": {
     "name": "#%%\n"
    }
   }
  },
  {
   "cell_type": "code",
   "execution_count": 44,
   "outputs": [
    {
     "name": "stdout",
     "output_type": "stream",
     "text": [
      "[['E', 'E', 'U', 'G', 'U'], ['I', 'O', 'O', 'I', 'U']]\n",
      "Ilość list składających się z dużych samogłosek:  2\n"
     ]
    }
   ],
   "source": [
    "# 8. Stwórz 100-elementową listę, składającą się z napisów długości 5 wylosowanych z dużych liter alfabetu\n",
    "# łacińskiego. Następnie policz ile napisów i wyświetl i napisów zawiera tylko samogłoski.\n",
    "\n",
    "random.seed(150376)\n",
    "list=[[random.choice(string.ascii_uppercase) for i in range(5)] for j in range(100)]\n",
    "final_list=[]\n",
    "for i in list:\n",
    "    for j in i:\n",
    "        if j in ('A', 'E', 'I', 'O', 'U', 'Y'):\n",
    "            if j==i[len(i)-1]:\n",
    "                final_list.append(i)\n",
    "        else:\n",
    "            break\n",
    "print(final_list)\n",
    "print(\"Ilość napisów składających się z dużych samogłosek: \", len(final_list))"
   ],
   "metadata": {
    "collapsed": false,
    "pycharm": {
     "name": "#%%\n"
    }
   }
  }
 ],
 "metadata": {
  "kernelspec": {
   "display_name": "Python 3",
   "language": "python",
   "name": "python3"
  },
  "language_info": {
   "codemirror_mode": {
    "name": "ipython",
    "version": 2
   },
   "file_extension": ".py",
   "mimetype": "text/x-python",
   "name": "python",
   "nbconvert_exporter": "python",
   "pygments_lexer": "ipython2",
   "version": "2.7.6"
  }
 },
 "nbformat": 4,
 "nbformat_minor": 0
}