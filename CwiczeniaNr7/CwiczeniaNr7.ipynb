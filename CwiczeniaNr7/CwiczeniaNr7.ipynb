{
 "cells": [
  {
   "cell_type": "markdown",
   "source": [
    "1. Napisz program obliczający sumę dwóch liczb całkowitych. W programie stwórz własną metodę z\n",
    "dwoma parametrami i zwracającą sumę. Napisz trzy przypadki testowe."
   ],
   "metadata": {
    "collapsed": false
   }
  },
  {
   "cell_type": "code",
   "execution_count": 2,
   "metadata": {
    "collapsed": true
   },
   "outputs": [
    {
     "name": "stdout",
     "output_type": "stream",
     "text": [
      "7\n",
      "1\n",
      "-5\n"
     ]
    }
   ],
   "source": [
    "import math\n",
    "\n",
    "\n",
    "def fun(number1, number2):\n",
    "    return number1+number2\n",
    "\n",
    "print(fun(2,5))\n",
    "print(fun(-2,3))\n",
    "print(fun(-4,-1))"
   ]
  },
  {
   "cell_type": "markdown",
   "source": [
    "2. Napisz program do obliczenia silni. Nie korzystaj z gotowych funkcji, napisz własną funkcję w której\n",
    "wnętrzu wykorzystasz pętle. Napisz trzy przypadki testowe."
   ],
   "metadata": {
    "collapsed": false
   }
  },
  {
   "cell_type": "code",
   "execution_count": 10,
   "outputs": [
    {
     "name": "stdout",
     "output_type": "stream",
     "text": [
      "120\n",
      "479001600\n",
      "1\n"
     ]
    }
   ],
   "source": [
    "def fun(number):\n",
    "    result=1\n",
    "    for i in range(1, number+1):\n",
    "        result=result*i\n",
    "    return result\n",
    "\n",
    "print(fun(5))\n",
    "print(fun(12))\n",
    "print(fun(0))"
   ],
   "metadata": {
    "collapsed": false,
    "pycharm": {
     "name": "#%%\n"
    }
   }
  },
  {
   "cell_type": "markdown",
   "source": [
    "3. Napisz program do obliczenia silni. Nie korzystaj z gotowych funkcji, napisz własną funkcję rekuren-\n",
    "cyjną."
   ],
   "metadata": {
    "collapsed": false
   }
  },
  {
   "cell_type": "code",
   "execution_count": 6,
   "outputs": [
    {
     "name": "stdout",
     "output_type": "stream",
     "text": [
      "120\n",
      "479001600\n",
      "1\n"
     ]
    }
   ],
   "source": [
    "def fun(number, result=1):\n",
    "    if number==0:\n",
    "        return 1\n",
    "    else:\n",
    "        return number*fun(number-1,result)\n",
    "\n",
    "print(fun(5))\n",
    "print(fun(12))\n",
    "print(fun(0))"
   ],
   "metadata": {
    "collapsed": false,
    "pycharm": {
     "name": "#%%\n"
    }
   }
  },
  {
   "cell_type": "markdown",
   "source": [
    "4. Zdefiniuj funkcję “cg”, która dla podanych trzech parametrów: n=numer elementu ciągu, a1=wartość\n",
    "pierwszego elementu ciągu (domyślnie 1), q=wartość iloczynu ciągu geometrycznego (domyślnie 2)\n",
    "zwróci n-ty element ciągu geometrycznego. https://pl.wikipedia.org/wiki/Ci%C4%85g_geometryczny.\n",
    "Stwórz dwa przypadki testowe."
   ],
   "metadata": {
    "collapsed": false
   }
  },
  {
   "cell_type": "code",
   "execution_count": 9,
   "outputs": [
    {
     "name": "stdout",
     "output_type": "stream",
     "text": [
      "32\n",
      "972\n"
     ]
    }
   ],
   "source": [
    "def cg(n, a1=1, q=2):\n",
    "    result=a1\n",
    "    for i in range(1, n+1):\n",
    "        result=result*q\n",
    "    return result\n",
    "\n",
    "print(cg(5))\n",
    "print(cg(5,4,3))"
   ],
   "metadata": {
    "collapsed": false,
    "pycharm": {
     "name": "#%%\n"
    }
   }
  },
  {
   "cell_type": "markdown",
   "source": [
    "5. Napisz program i funkcję, która sprawa czy dane słowo jest palindromem (brzmi tak samo czytane od\n",
    "lewej do prawej i od prawej do lewej). Stwórz dwa przypadki testowe."
   ],
   "metadata": {
    "collapsed": false
   }
  },
  {
   "cell_type": "code",
   "execution_count": 17,
   "outputs": [
    {
     "name": "stdout",
     "output_type": "stream",
     "text": [
      "False\n",
      "True\n"
     ]
    }
   ],
   "source": [
    "def fun(str):\n",
    "    for i in range(int(len(str)/2)):\n",
    "        if str[i]!=str[len(str)-i-1]:\n",
    "            return False\n",
    "    return True\n",
    "\n",
    "print(fun('ala ma kota'))\n",
    "print(fun('ala'))"
   ],
   "metadata": {
    "collapsed": false,
    "pycharm": {
     "name": "#%%\n"
    }
   }
  },
  {
   "cell_type": "markdown",
   "source": [
    "6. Napisz program z funkcją, która sprawdza czy na liście elementy są posortowane od największych do\n",
    "najmniejszych (wtedy wyrzuca True, w przeciwnym wypadku False). Stwórz dwa przypadki testowe."
   ],
   "metadata": {
    "collapsed": false
   }
  },
  {
   "cell_type": "code",
   "execution_count": 29,
   "outputs": [
    {
     "name": "stdout",
     "output_type": "stream",
     "text": [
      "False\n",
      "True\n"
     ]
    }
   ],
   "source": [
    "def fun(list):\n",
    "    for i in range(len(list)):\n",
    "        for j in range(i, len(list)):\n",
    "            if list[i]<list[j]:\n",
    "                return False\n",
    "    return True\n",
    "\n",
    "print(fun([4,2,1,3]))\n",
    "print(fun([4,3,2,1]))"
   ],
   "metadata": {
    "collapsed": false,
    "pycharm": {
     "name": "#%%\n"
    }
   }
  },
  {
   "cell_type": "markdown",
   "source": [
    "7. Napisz program, która zlicza sumę kwadratów elementów ciągu podanych jako parametr funkcji (użyj\n",
    "* do oznaczenia dowolnej ilości parametrów). Stwórz dwa przypadki testowe."
   ],
   "metadata": {
    "collapsed": false
   }
  },
  {
   "cell_type": "code",
   "execution_count": 48,
   "outputs": [
    {
     "name": "stdout",
     "output_type": "stream",
     "text": [
      "55\n",
      "14\n"
     ]
    }
   ],
   "source": [
    "def fun(*elements):\n",
    "    result=0\n",
    "    for i in list(elements):\n",
    "        result+=(i*i)\n",
    "    return result\n",
    "\n",
    "print(fun(1,2,3,4,5))\n",
    "print(fun(1,2,3))"
   ],
   "metadata": {
    "collapsed": false,
    "pycharm": {
     "name": "#%%\n"
    }
   }
  },
  {
   "cell_type": "markdown",
   "source": [
    "9. Napisz program z funkcją z parametrem z *. Funkcja ma zwracać ciąg wejściowy podniesiony do\n",
    "trzeciej potęgi. Nie korzystaj z pętli, użyj tzw. List Comprehensions we wnętrzu funkcji. Stwórz dwa\n",
    "przypadki testowe."
   ],
   "metadata": {
    "collapsed": false
   }
  },
  {
   "cell_type": "code",
   "execution_count": 53,
   "outputs": [
    {
     "name": "stdout",
     "output_type": "stream",
     "text": [
      "[3375, -64, -1, 64, 125]\n",
      "[1, 8, 27]\n"
     ]
    }
   ],
   "source": [
    "def fun(*elements):\n",
    "    return [i**3 for i in list(elements)]\n",
    "\n",
    "print(fun(15,-4,-1,4,5))\n",
    "print(fun(1,2,3))"
   ],
   "metadata": {
    "collapsed": false,
    "pycharm": {
     "name": "#%%\n"
    }
   }
  },
  {
   "cell_type": "markdown",
   "source": [],
   "metadata": {
    "collapsed": false
   }
  },
  {
   "cell_type": "markdown",
   "source": [
    "Wykonaj poniższe operacje z wykorzystaniem biblioteki math"
   ],
   "metadata": {
    "collapsed": false
   }
  },
  {
   "cell_type": "code",
   "execution_count": 32,
   "outputs": [
    {
     "name": "stdout",
     "output_type": "stream",
     "text": [
      "35\n"
     ]
    }
   ],
   "source": [
    "import math\n",
    "print(math.comb(7,3))"
   ],
   "metadata": {
    "collapsed": false,
    "pycharm": {
     "name": "#%%\n"
    }
   }
  },
  {
   "cell_type": "code",
   "execution_count": 33,
   "outputs": [
    {
     "name": "stdout",
     "output_type": "stream",
     "text": [
      "3.4\n"
     ]
    }
   ],
   "source": [
    "print(math.fabs(-3.4))"
   ],
   "metadata": {
    "collapsed": false,
    "pycharm": {
     "name": "#%%\n"
    }
   }
  },
  {
   "cell_type": "code",
   "execution_count": 35,
   "outputs": [
    {
     "name": "stdout",
     "output_type": "stream",
     "text": [
      "55.0\n"
     ]
    }
   ],
   "source": [
    "print(math.fsum([4,9,-2,33,11]))"
   ],
   "metadata": {
    "collapsed": false,
    "pycharm": {
     "name": "#%%\n"
    }
   }
  },
  {
   "cell_type": "code",
   "execution_count": 36,
   "outputs": [
    {
     "name": "stdout",
     "output_type": "stream",
     "text": [
      "12\n"
     ]
    }
   ],
   "source": [
    "print(math.gcd(60,24))"
   ],
   "metadata": {
    "collapsed": false,
    "pycharm": {
     "name": "#%%\n"
    }
   }
  },
  {
   "cell_type": "code",
   "execution_count": 37,
   "outputs": [
    {
     "name": "stdout",
     "output_type": "stream",
     "text": [
      "2\n"
     ]
    }
   ],
   "source": [
    "print(math.floor(math.sqrt(5)))"
   ],
   "metadata": {
    "collapsed": false,
    "pycharm": {
     "name": "#%%\n"
    }
   }
  },
  {
   "cell_type": "code",
   "execution_count": 40,
   "outputs": [
    {
     "name": "stdout",
     "output_type": "stream",
     "text": [
      "403.4287934927351\n"
     ]
    }
   ],
   "source": [
    "print((math.exp(6)))"
   ],
   "metadata": {
    "collapsed": false,
    "pycharm": {
     "name": "#%%\n"
    }
   }
  },
  {
   "cell_type": "code",
   "execution_count": 41,
   "outputs": [
    {
     "name": "stdout",
     "output_type": "stream",
     "text": [
      "2.321928094887362\n"
     ]
    }
   ],
   "source": [
    "print(math.log2(5))"
   ],
   "metadata": {
    "collapsed": false,
    "pycharm": {
     "name": "#%%\n"
    }
   }
  },
  {
   "cell_type": "code",
   "execution_count": 42,
   "outputs": [
    {
     "name": "stdout",
     "output_type": "stream",
     "text": [
      "0.6989700043360189\n"
     ]
    }
   ],
   "source": [
    "print(math.log10(5))"
   ],
   "metadata": {
    "collapsed": false,
    "pycharm": {
     "name": "#%%\n"
    }
   }
  },
  {
   "cell_type": "code",
   "execution_count": 44,
   "outputs": [
    {
     "name": "stdout",
     "output_type": "stream",
     "text": [
      "1.791759469228055\n"
     ]
    }
   ],
   "source": [
    "print(math.log(6))"
   ],
   "metadata": {
    "collapsed": false,
    "pycharm": {
     "name": "#%%\n"
    }
   }
  },
  {
   "cell_type": "code",
   "execution_count": 45,
   "outputs": [
    {
     "name": "stdout",
     "output_type": "stream",
     "text": [
      "0.25\n"
     ]
    }
   ],
   "source": [
    "print(math.log(5, 625))"
   ],
   "metadata": {
    "collapsed": false,
    "pycharm": {
     "name": "#%%\n"
    }
   }
  },
  {
   "cell_type": "code",
   "execution_count": 46,
   "outputs": [
    {
     "name": "stdout",
     "output_type": "stream",
     "text": [
      "0.5235987755982989\n"
     ]
    }
   ],
   "source": [
    "print(math.asin(1/2))"
   ],
   "metadata": {
    "collapsed": false,
    "pycharm": {
     "name": "#%%\n"
    }
   }
  },
  {
   "cell_type": "code",
   "execution_count": 47,
   "outputs": [
    {
     "name": "stdout",
     "output_type": "stream",
     "text": [
      "3.141592653589793\n"
     ]
    }
   ],
   "source": [
    "print(math.tau/2)"
   ],
   "metadata": {
    "collapsed": false,
    "pycharm": {
     "name": "#%%\n"
    }
   }
  }
 ],
 "metadata": {
  "kernelspec": {
   "display_name": "Python 3",
   "language": "python",
   "name": "python3"
  },
  "language_info": {
   "codemirror_mode": {
    "name": "ipython",
    "version": 2
   },
   "file_extension": ".py",
   "mimetype": "text/x-python",
   "name": "python",
   "nbconvert_exporter": "python",
   "pygments_lexer": "ipython2",
   "version": "2.7.6"
  }
 },
 "nbformat": 4,
 "nbformat_minor": 0
}