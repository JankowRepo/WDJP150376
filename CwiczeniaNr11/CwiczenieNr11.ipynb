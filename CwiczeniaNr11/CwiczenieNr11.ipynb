{
 "cells": [
  {
   "cell_type": "code",
   "execution_count": 12,
   "id": "a87cfbaa",
   "metadata": {},
   "outputs": [],
   "source": [
    "import collections\n",
    "from collections import deque\n",
    "import collections"
   ]
  },
  {
   "cell_type": "code",
   "execution_count": 3,
   "id": "d19628f6",
   "metadata": {},
   "outputs": [
    {
     "name": "stdout",
     "output_type": "stream",
     "text": [
      "Łączna cena obu książek to  48.0\n",
      "wiersze\n"
     ]
    }
   ],
   "source": [
    "# Stwórz konstrukcję numedtuple o nazwie Book przechowująca dane książki. Dodaj pole związane z autorem, tytułem, ceną (float) i liczbą stron (int). Na bazie tej konstrukcji stwórz kilka różnych zmiennych tego typu i przetestuj działanie funkcji opisanych w dokumentacji.\n",
    "Book = collections.namedtuple('Book', ['author', 'title', 'price', 'pages'])\n",
    "book = Book('Brzechwa', 'wiersze', 15.50, 100)\n",
    "book2 = Book('Tolkien', 'Two towers', 32.50, 820)\n",
    "print(\"Łączna cena obu książek to \", book.price+book2.price)\n",
    "print(getattr(book, 'title'))"
   ]
  },
  {
   "cell_type": "code",
   "execution_count": 6,
   "id": "a60054fe",
   "metadata": {},
   "outputs": [
    {
     "name": "stdout",
     "output_type": "stream",
     "text": [
      "Łączna ilość mieszkańców obu państw to  140000000\n"
     ]
    }
   ],
   "source": [
    "# Podobnie wykonaj ćwiczenia stworząc namedtuple do przechowywania informacji o stolicach:\n",
    "Country = collections.namedtuple('Country', ['name', 'capital', 'population'])\n",
    "mainCityOfPoland = Country('Poland', 'Warsaw', 40000000)\n",
    "mainCityOfUK = Country('UK', 'London', 100000000)\n",
    "print(\"Łączna ilość mieszkańców obu państw to \", mainCityOfPoland.population+mainCityOfUK.population)"
   ]
  },
  {
   "cell_type": "code",
   "execution_count": 8,
   "id": "a08d4e08",
   "metadata": {},
   "outputs": [
    {
     "name": "stdout",
     "output_type": "stream",
     "text": [
      "W\n",
      "A\n",
      "R\n",
      "S\n",
      "Z\n",
      "A\n",
      "W\n",
      "A\n",
      "a\n",
      "None\n",
      "['W', 'a', 'r', 's', 'z', 'a', 'w', 'A']\n"
     ]
    }
   ],
   "source": [
    "# Stwórz zmienną typu deque i wykonaj dla nie parę przykładowych operacji opisanych na https://docs. python.org/3/library/collections.html#collections.deque\n",
    "\n",
    "magicList = deque('Warszawa')\n",
    "for i in magicList:\n",
    "    print(i.upper())\n",
    "print(magicList.pop())\n",
    "print(magicList.append('A'))\n",
    "print(list(magicList))\n"
   ]
  },
  {
   "cell_type": "code",
   "execution_count": 10,
   "id": "c9665e0d",
   "metadata": {},
   "outputs": [
    {
     "name": "stdout",
     "output_type": "stream",
     "text": [
      "deque([41, -5, 0, 2, 12])\n",
      "deque([12, 41, -5, 0, 2])\n",
      "deque([2, 12, 41, -5, 0])\n",
      "deque([0, 2, 12, 41, -5])\n",
      "deque([-5, 0, 2, 12, 41])\n"
     ]
    }
   ],
   "source": [
    "# Stwórz deque zawierającą 5 liczb całkowitych. Następnie wyświetl w kolejnych wierszach wszystkie możliwe “obroty” danej kolejki (skorzystaj z rotate).\n",
    "magicList = deque([-5,0,2,12,41])\n",
    "for i in range(len(magicList)):\n",
    "    magicList.rotate()\n",
    "    print(magicList)"
   ]
  },
  {
   "cell_type": "code",
   "execution_count": 11,
   "id": "256dba2c",
   "metadata": {},
   "outputs": [],
   "source": [
    "# Stwórz samodzielne napisany moduł, gdzie jedną ze zmiennych będzie pusta kolejka. Dodaj funkcje w module tak, aby zapewniały obsługę tej zmiennej jako stos (rozumiany jako abstrakcyjny typ danych, dostęp tylko za pomocą LIFO - Last In, First Out).\n",
    "from collections import deque\n",
    "\n",
    "def queueIn(value):\n",
    "    queue.appendleft(value)\n",
    "    \n",
    "def queueOut():\n",
    "    return queue.pop()\n",
    "\n",
    "global queue\n",
    "queue=deque('')"
   ]
  },
  {
   "cell_type": "code",
   "execution_count": 13,
   "id": "154dc93a",
   "metadata": {},
   "outputs": [
    {
     "name": "stdout",
     "output_type": "stream",
     "text": [
      "e\n"
     ]
    }
   ],
   "source": [
    "# Napisz program, który wyświetla najczęściej występujący znak z ustalonego w kodzie napisu.\n",
    "\n",
    "napis = 'Hello there'\n",
    "print(collections.Counter(napis).most_common(1)[0][0])"
   ]
  },
  {
   "cell_type": "code",
   "execution_count": 14,
   "id": "459566a5",
   "metadata": {},
   "outputs": [
    {
     "name": "stdout",
     "output_type": "stream",
     "text": [
      "e\n",
      "l\n",
      "H\n"
     ]
    }
   ],
   "source": [
    "# Napisz program, który wyświetla 3 najczęściej występujące znaki z ustalonego w kodzie napisu.\n",
    "\n",
    "napis = 'Hello there'\n",
    "for i in range(3):\n",
    "    print(collections.Counter(napis).most_common(3)[i][0])"
   ]
  },
  {
   "cell_type": "code",
   "execution_count": 18,
   "id": "a93b7e64",
   "metadata": {},
   "outputs": [
    {
     "name": "stdout",
     "output_type": "stream",
     "text": [
      "Counter({'a': 410, 'b': 15})\n",
      "Counter({'a': 390, 'b': 15})\n",
      "Counter({'a': 10})\n",
      "Counter({'a': 400, 'b': 15})\n"
     ]
    }
   ],
   "source": [
    "# Stwórz dwa liczniki i potestuj działanie operatorów: +, -, & oraz |.\n",
    "c = collections.Counter(a=400, b=15)\n",
    "d = collections.Counter(a=10, b=0)\n",
    "print((c + d))\n",
    "print(c - d)\n",
    "print(c & d)\n",
    "print(c | d)\n"
   ]
  },
  {
   "cell_type": "code",
   "execution_count": null,
   "id": "9c9c4e1c",
   "metadata": {},
   "outputs": [],
   "source": []
  }
 ],
 "metadata": {
  "kernelspec": {
   "display_name": "Python 3 (ipykernel)",
   "language": "python",
   "name": "python3"
  },
  "language_info": {
   "codemirror_mode": {
    "name": "ipython",
    "version": 3
   },
   "file_extension": ".py",
   "mimetype": "text/x-python",
   "name": "python",
   "nbconvert_exporter": "python",
   "pygments_lexer": "ipython3",
   "version": "3.9.7"
  }
 },
 "nbformat": 4,
 "nbformat_minor": 5
}
