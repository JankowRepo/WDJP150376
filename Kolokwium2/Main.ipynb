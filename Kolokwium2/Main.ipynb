{
 "cells": [
  {
   "cell_type": "code",
   "execution_count": 27,
   "metadata": {
    "collapsed": true
   },
   "outputs": [
    {
     "name": "stdout",
     "output_type": "stream",
     "text": [
      "Tytuł książki ' Drużyna pierścienia ' ma  19  znaków\n",
      "Najdroższa książka kosztuje  49.99 zł\n"
     ]
    }
   ],
   "source": [
    "# Zadanie 1\n",
    "import Zadanie1\n",
    "import importlib\n",
    "importlib.reload(Zadanie1)\n",
    "\n",
    "book1=Zadanie1.Book('Drużyna pierścienia', 39.99)\n",
    "book2=Zadanie1.Book('Dwie wieże', 34.99)\n",
    "book3=Zadanie1.Book('Powrót króla', 49.99)\n",
    "\n",
    "print(\"Tytuł książki '\", book1.title,\"' ma \", Zadanie1.fun1(book1),\" znaków\")\n",
    "print(\"Najdroższa książka kosztuje \",Zadanie1.fun2([book1,book2,book3]), \"zł\")"
   ]
  },
  {
   "cell_type": "code",
   "execution_count": 12,
   "outputs": [],
   "source": [
    "# Zadanie 2\n",
    "import Zadanie2\n",
    "import importlib\n",
    "importlib.reload(Zadanie2)\n",
    "\n",
    "\n",
    "path=\"file.txt\"\n",
    "f=Zadanie2.fun1(path)\n",
    "Zadanie2.fun3(f,\"Hello World. PYTHON. PythoN\")\n",
    "Zadanie2.fun2(f)"
   ],
   "metadata": {
    "collapsed": false,
    "pycharm": {
     "name": "#%%\n"
    }
   }
  },
  {
   "cell_type": "code",
   "execution_count": 36,
   "outputs": [
    {
     "name": "stdout",
     "output_type": "stream",
     "text": [
      "Wylosowana litera:  k\n",
      "Ilość wystąpień tej litery w zdaniu ' Hello there ':  0\n",
      "\n",
      "\n",
      "Wylosowana liczba to:  0\n",
      "12345\n"
     ]
    }
   ],
   "source": [
    "# Zadanie 3\n",
    "import Zadanie3\n",
    "import importlib\n",
    "importlib.reload(Zadanie3)\n",
    "\n",
    "Zadanie3.fun1(\"Hello there\")\n",
    "print(\"\\n\")\n",
    "print(Zadanie3.fun2(12345))"
   ],
   "metadata": {
    "collapsed": false,
    "pycharm": {
     "name": "#%%\n"
    }
   }
  }
 ],
 "metadata": {
  "kernelspec": {
   "display_name": "Python 3",
   "language": "python",
   "name": "python3"
  },
  "language_info": {
   "codemirror_mode": {
    "name": "ipython",
    "version": 2
   },
   "file_extension": ".py",
   "mimetype": "text/x-python",
   "name": "python",
   "nbconvert_exporter": "python",
   "pygments_lexer": "ipython2",
   "version": "2.7.6"
  }
 },
 "nbformat": 4,
 "nbformat_minor": 0
}